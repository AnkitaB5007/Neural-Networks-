{
  "cells": [
    {
      "cell_type": "markdown",
      "metadata": {
        "id": "6GGdDzNp-gEg"
      },
      "source": [
        "### In the lecture you have been introduced to VGG16. For this problem your task is to implement a VGG like CNN architecture for classification on the CIFAR10 dataset."
      ]
    },
    {
      "cell_type": "code",
      "execution_count": null,
      "metadata": {
        "id": "BQs8RyYL9nUc"
      },
      "outputs": [],
      "source": [
        "import torch\n",
        "import torchvision\n",
        "import torchvision.transforms as transforms\n",
        "import torch.nn as nn\n",
        "import torch.nn.functional as F"
      ]
    },
    {
      "cell_type": "markdown",
      "metadata": {
        "id": "ZZ1AZfUD_HZ9"
      },
      "source": [
        "### 1. Load the dataset (0.5 point)\n",
        "To load the dataset, you can use the inbuilt dataloader for CIFAR10 provided in the torchvision package. Load both test set and trainset separately. Define the transformations you might need to load the data appropriately."
      ]
    },
    {
      "cell_type": "code",
      "execution_count": null,
      "metadata": {
        "id": "bOSZHQRT9nUr"
      },
      "outputs": [],
      "source": [
        "transform = \n",
        "\n",
        "trainset = \n",
        "\n",
        "trainloader = \n",
        "\n",
        "testset = \n",
        "\n",
        "testloader = \n",
        "\n",
        "classes = ('plane', 'car', 'bird', 'cat',\n",
        "           'deer', 'dog', 'frog', 'horse', 'ship', 'truck')"
      ]
    },
    {
      "cell_type": "markdown",
      "metadata": {
        "id": "VGpxcaoc_te7"
      },
      "source": [
        "### Create the model architecture (1.0 point)\n",
        "Implement the class below such that the final architecture follows the same pattern of layers as VGG16."
      ]
    },
    {
      "cell_type": "code",
      "execution_count": null,
      "metadata": {
        "id": "BeCGIwT99nUs"
      },
      "outputs": [],
      "source": [
        "class Net(nn.Module):\n",
        "    def __init__(self):\n",
        "        super(Net, self).__init__()\n",
        "        \n",
        "\n",
        "    def forward(self, x):\n",
        "        \n",
        "        return out\n",
        "\n",
        "\n",
        "net = Net().cuda()"
      ]
    },
    {
      "cell_type": "markdown",
      "metadata": {
        "id": "NbNC9ujQAJY6"
      },
      "source": [
        "### Loss function and optimizer (0.5 point)\n",
        "Define the loss function and optimizer to train the model."
      ]
    },
    {
      "cell_type": "code",
      "execution_count": null,
      "metadata": {
        "id": "s5bALqHB9nUt"
      },
      "outputs": [],
      "source": [
        "criterion = \n",
        "optimizer = "
      ]
    },
    {
      "cell_type": "markdown",
      "metadata": {
        "id": "aWmCHNJSAUe1"
      },
      "source": [
        "### Train the model (1.0 point)"
      ]
    },
    {
      "cell_type": "code",
      "execution_count": null,
      "metadata": {
        "id": "pF7eNJ389nUt"
      },
      "outputs": [],
      "source": [
        "epochs = \n",
        "\n",
        "for epoch in range(epochs): \n",
        "\n",
        "    for i, data in enumerate(trainloader, 0):\n",
        "        \n",
        "\n",
        "print('Finished Training')"
      ]
    },
    {
      "cell_type": "markdown",
      "metadata": {
        "id": "aLlqZjZiA5nf"
      },
      "source": [
        "Code below generates the class wise accuracy of the model. You can use the results from the code below to decide the values of hyperparametrs."
      ]
    },
    {
      "cell_type": "code",
      "execution_count": null,
      "metadata": {
        "id": "ughmKpRj9nUu"
      },
      "outputs": [],
      "source": [
        "class_correct = list(0. for i in range(10))\n",
        "class_total = list(0. for i in range(10))\n",
        "with torch.no_grad():\n",
        "    for data in testloader:\n",
        "        images, labels = data\n",
        "        images = images.cuda()\n",
        "        labels = labels.cuda()\n",
        "        outputs = net(images)\n",
        "        _, predicted = torch.max(outputs, 1)\n",
        "        c = (predicted == labels).squeeze()\n",
        "        for i in range(4):\n",
        "            label = labels[i]\n",
        "            class_correct[label] += c[i].item()\n",
        "            class_total[label] += 1\n",
        "\n",
        "\n",
        "for i in range(10):\n",
        "    print('Accuracy of %5s : %2d %%' % (\n",
        "        classes[i], 100 * class_correct[i] / class_total[i]))"
      ]
    },
    {
      "cell_type": "code",
      "execution_count": null,
      "metadata": {
        "id": "ei4AsQ6_-TXW"
      },
      "outputs": [],
      "source": []
    }
  ],
  "metadata": {
    "accelerator": "GPU",
    "colab": {
      "provenance": []
    },
    "kernelspec": {
      "display_name": "Python 3",
      "language": "python",
      "name": "python3"
    },
    "language_info": {
      "codemirror_mode": {
        "name": "ipython",
        "version": 3
      },
      "file_extension": ".py",
      "mimetype": "text/x-python",
      "name": "python",
      "nbconvert_exporter": "python",
      "pygments_lexer": "ipython3",
      "version": "3.9.0"
    }
  },
  "nbformat": 4,
  "nbformat_minor": 0
}